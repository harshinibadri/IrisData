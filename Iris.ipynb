{
 "cells": [
  {
   "cell_type": "code",
   "execution_count": null,
   "metadata": {},
   "outputs": [
    {
     "name": "stdout",
     "output_type": "stream",
     "text": [
      "Accuracy: 1.0000\n",
      "Classification Report:\n",
      "              precision    recall  f1-score   support\n",
      "\n",
      "           0       1.00      1.00      1.00        19\n",
      "           1       1.00      1.00      1.00        13\n",
      "           2       1.00      1.00      1.00        13\n",
      "\n",
      "    accuracy                           1.00        45\n",
      "   macro avg       1.00      1.00      1.00        45\n",
      "weighted avg       1.00      1.00      1.00        45\n",
      "\n",
      "Confusion Matrix:\n",
      "[[19  0  0]\n",
      " [ 0 13  0]\n",
      " [ 0  0 13]]\n",
      "Model saved as iris_rf_model.pkl\n",
      "Predicted species: setosa\n"
     ]
    }
   ],
   "source": [
    "\n",
    "import pandas as pd\n",
    "import numpy as np\n",
    "import seaborn as sns\n",
    "import matplotlib.pyplot as plt\n",
    "from sklearn.datasets import load_iris\n",
    "from sklearn.model_selection import train_test_split\n",
    "from sklearn.preprocessing import StandardScaler\n",
    "from sklearn.ensemble import RandomForestClassifier\n",
    "from sklearn.metrics import accuracy_score, classification_report, confusion_matrix\n",
    "import joblib\n",
    "# Step 2: Load the Iris Dataset\n",
    "iris = load_iris()\n",
    "# Features (X) and target (y)\n",
    "X = iris.data  # Sepal length, Sepal width, Petal length, Petal width\n",
    "y = iris.target  # Species\n",
    "df = pd.DataFrame(X, columns=iris.feature_names)\n",
    "df['species'] = iris.target_names[y]\n",
    "# Step 3: Data Preprocessing\n",
    "scaler = StandardScaler()\n",
    "X_scaled = scaler.fit_transform(X)\n",
    "# Step 4: Train-Test Split\n",
    "X_train, X_test, y_train, y_test = train_test_split(X_scaled, y, test_size=0.3, random_state=42)\n",
    "# Step 5: Model Selection \n",
    "model = RandomForestClassifier(random_state=42)\n",
    "# Train the model\n",
    "model.fit(X_train, y_train)\n",
    "# Step 6: Model Evaluation\n",
    "y_pred = model.predict(X_test)\n",
    "# Accuracy Score\n",
    "print(f\"Accuracy: {accuracy_score(y_test, y_pred):.4f}\")\n",
    "# Classification Report \n",
    "print(\"Classification Report:\")\n",
    "print(classification_report(y_test, y_pred))\n",
    "# Confusion Matrix\n",
    "print(\"Confusion Matrix:\")\n",
    "print(confusion_matrix(y_test, y_pred))\n",
    "# Step 7: Save the Trained Model\n",
    "joblib.dump(model, 'iris_rf_model.pkl')\n",
    "print(\"Model saved as iris_rf_model.pkl\")\n",
    "# Step 8: Load the Saved Model \n",
    "loaded_model = joblib.load('iris_rf_model.pkl')\n",
    "# Step 9: Make Predictions\n",
    "# Example: Predict the species of a new sample \n",
    "# Sample features: Sepal length, Sepal width, Petal length, Petal width\n",
    "new_sample = np.array([[5.1, 3.5, 1.4, 0.2]])  # Example: Setosa\n",
    "new_sample_scaled = scaler.transform(new_sample)\n",
    "prediction = loaded_model.predict(new_sample_scaled)\n",
    "print(f\"Predicted species: {iris.target_names[prediction][0]}\")\n"
   ]
  }
 ],
 "metadata": {
  "kernelspec": {
   "display_name": "Python 3",
   "language": "python",
   "name": "python3"
  },
  "language_info": {
   "codemirror_mode": {
    "name": "ipython",
    "version": 3
   },
   "file_extension": ".py",
   "mimetype": "text/x-python",
   "name": "python",
   "nbconvert_exporter": "python",
   "pygments_lexer": "ipython3",
   "version": "3.10.7"
  }
 },
 "nbformat": 4,
 "nbformat_minor": 2
}
